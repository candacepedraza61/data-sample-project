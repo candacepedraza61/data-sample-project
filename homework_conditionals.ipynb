{
 "cells": [
  {
   "cell_type": "code",
   "execution_count": 4,
   "id": "090af4c6",
   "metadata": {},
   "outputs": [
    {
     "name": "stdout",
     "output_type": "stream",
     "text": [
      "x is smaller than y\n"
     ]
    }
   ],
   "source": [
    "## Question 1\n",
    "## write a conditional expression that compares x and y and \n",
    "## prints \"x is larger than y\" if x is larger than y or\n",
    "## prints \"x is smaller than y\" if x is smaller than y\n",
    "\n",
    "x = 10\n",
    "y = 15\n",
    "\n",
    "x == y\n",
    "\n",
    "if x >= y:\n",
    "    decision = \"x is larger than y\"\n",
    "else: \n",
    "    decision = \"x is smaller than y\"\n",
    "print(decision)"
   ]
  },
  {
   "cell_type": "code",
   "execution_count": 12,
   "id": "6da24cbc",
   "metadata": {},
   "outputs": [
    {
     "name": "stdout",
     "output_type": "stream",
     "text": [
      "6\n",
      "11\n",
      "16\n",
      "21\n",
      "26\n"
     ]
    }
   ],
   "source": [
    "## Question 2\n",
    "## write a for loop that prints the values in this list but increases each number by 5\n",
    "numbers = [1, 6, 11, 16, 21]\n",
    "for each_number in numbers:\n",
    "    print(each_number + 5) "
   ]
  },
  {
   "cell_type": "code",
   "execution_count": 10,
   "id": "8ec43418",
   "metadata": {},
   "outputs": [],
   "source": [
    "## Question 2\n"
   ]
  },
  {
   "cell_type": "code",
   "execution_count": null,
   "id": "26718ece",
   "metadata": {},
   "outputs": [],
   "source": [
    "## Question 3\n",
    "## add these two numbers together and round to 2 decimal places\n",
    "number_1 = 42.569783\n",
    "number_2 = 101.668342"
   ]
  }
 ],
 "metadata": {
  "kernelspec": {
   "display_name": "Python 3 (ipykernel)",
   "language": "python",
   "name": "python3"
  },
  "language_info": {
   "codemirror_mode": {
    "name": "ipython",
    "version": 3
   },
   "file_extension": ".py",
   "mimetype": "text/x-python",
   "name": "python",
   "nbconvert_exporter": "python",
   "pygments_lexer": "ipython3",
   "version": "3.9.7"
  }
 },
 "nbformat": 4,
 "nbformat_minor": 5
}
